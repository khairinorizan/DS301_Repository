{
 "cells": [
  {
   "cell_type": "markdown",
   "metadata": {},
   "source": [
    "**DS 301: Applied Data Modeling and Predictive Analysis**\n",
    "\n",
    "# Lab 05 – Support Vector Machine"
   ]
  },
  {
   "cell_type": "markdown",
   "metadata": {},
   "source": [
    "Load data and prepare X and y"
   ]
  },
  {
   "cell_type": "code",
   "execution_count": 1,
   "metadata": {},
   "outputs": [
    {
     "name": "stdout",
     "output_type": "stream",
     "text": [
      "(100, 2) (100,)\n"
     ]
    }
   ],
   "source": [
    "import numpy as np\n",
    "from sklearn.datasets import load_iris\n",
    "\n",
    "X, y = load_iris(return_X_y=True)\n",
    "X = X[:, :2]\n",
    "idx = np.argwhere(y == 2)\n",
    "X = np.delete(X, idx, axis=0)\n",
    "y = np.delete(y, idx)\n",
    "print(X.shape, y.shape)"
   ]
  },
  {
   "cell_type": "markdown",
   "metadata": {},
   "source": [
    "**Task 1:** Use scikit-learn to train your model using SVC with linear kernel. Report the training accuracy. [10 points]"
   ]
  },
  {
   "cell_type": "code",
   "execution_count": 2,
   "metadata": {},
   "outputs": [
    {
     "name": "stdout",
     "output_type": "stream",
     "text": [
      "1.0\n"
     ]
    }
   ],
   "source": [
    "from sklearn.model_selection import train_test_split\n",
    "from sklearn import svm\n",
    "\n",
    "x_train, x_test, y_train, y_test = train_test_split(X, y, test_size=0.3, random_state=42)\n",
    "\n",
    "svc = svm.SVC(kernel = 'linear', C = 1).fit(x_train, y_train)\n",
    "\n",
    "score = svc.score(x_test, y_test)\n",
    "print(score)"
   ]
  },
  {
   "cell_type": "markdown",
   "metadata": {},
   "source": [
    "**Task 2:** Use matplotlib to visualize the data. Use the first feature as x-axis and the second feature as y-axis and assign different colors for data with different labels. Also plot your model decision boundary and use different colors to highlight support vectors. [10 points]"
   ]
  },
  {
   "cell_type": "code",
   "execution_count": 3,
   "metadata": {},
   "outputs": [
    {
     "data": {
      "text/plain": [
       "[<matplotlib.lines.Line2D at 0x7fa45b47cdf0>]"
      ]
     },
     "execution_count": 3,
     "metadata": {},
     "output_type": "execute_result"
    },
    {
     "data": {
      "image/png": "[encoded data removed]",
      "text/plain": [
       "<Figure size 432x288 with 1 Axes>"
      ]
     },
     "metadata": {
      "needs_background": "light"
     },
     "output_type": "display_data"
    }
   ],
   "source": [
    "import matplotlib.pyplot as plt\n",
    "import pandas as pd\n",
    "\n",
    "plt.scatter(X[:, 0], X[:, 1], c = y)\n",
    "\n",
    "# Constructing a hyperplane using a formula\n",
    "w = svc.coef_[0] # w consists of 2 elements\n",
    "b = svc.intercept_[0] # b consist of 1 element\n",
    "x_points = np.linspace(-1, 1) # generating x-points from -1 to 1\n",
    "y_points = -(w[0] / w[1]) * x_points - b / w[1] # getting corresponding y-points\n",
    "\n",
    "# Plotting a blue hyperplane\n",
    "plt.plot(x_points, y_points, color='blue')\n",
    "\n",
    "plt.scatter(svc.support_vectors_[:,0], svc.support_vectors_[:,1], color = 'red')\n",
    "\n",
    "# Step 2 (unit-vector):\n",
    "w_hat = svc.coef_[0] / (np.sqrt(np.sum(svc.coef_[0] ** 2)))\n",
    "# Step 3 (margin):\n",
    "margin = 1 / np.sqrt(np.sum(svc.coef_[0] ** 2))\n",
    "# Step 4 (calculate points of the margin lines):\n",
    "decision_boundary_points = np.array(list(zip(x_points, y_points)))\n",
    "points_of_line_above = decision_boundary_points + w_hat * margin\n",
    "points_of_line_below = decision_boundary_points - w_hat * margin\n",
    "\n",
    "# Plot margin lines\n",
    "\n",
    "# Blue margin line above\n",
    "plt.plot(points_of_line_above[:, 0], points_of_line_above[:, 1], 'b--', linewidth=2)\n",
    "\n",
    "# Green margin line below\n",
    "plt.plot(points_of_line_below[:, 0], points_of_line_below[:, 1], 'g--', linewidth=2)"
   ]
  },
  {
   "cell_type": "markdown",
   "metadata": {},
   "source": [
    "**Task 3:** Remove the support vectors (obtained in task 2) from the dataset. Retrain your model and do the same visualization as in Task 2 with new support vectors. [10 points]"
   ]
  },
  {
   "cell_type": "code",
   "execution_count": 4,
   "metadata": {},
   "outputs": [
    {
     "data": {
      "text/plain": [
       "[<matplotlib.lines.Line2D at 0x7fa45b5757f0>]"
      ]
     },
     "execution_count": 4,
     "metadata": {},
     "output_type": "execute_result"
    },
    {
     "data": {
      "image/png": "[encoded data removed]",
      "text/plain": [
       "<Figure size 432x288 with 1 Axes>"
      ]
     },
     "metadata": {
      "needs_background": "light"
     },
     "output_type": "display_data"
    }
   ],
   "source": [
    "boolNp = []\n",
    "appended = True;\n",
    "count = 0\n",
    "deleteIndex = []\n",
    "\n",
    "for xCount in range(len(X)):\n",
    "    for spptVectorCount in range(len(svc.support_vectors_)):\n",
    "        if (np.array_equal(X[xCount], svc.support_vectors_[spptVectorCount])):\n",
    "            boolNp.append(False)\n",
    "            deleteIndex.append(xCount)\n",
    "            appended = True\n",
    "            break;\n",
    "        appended = False\n",
    "    if (appended == False):\n",
    "        boolNp.append(True)\n",
    "\n",
    "filteredX = X[boolNp]\n",
    "filteredY = np.delete(y, deleteIndex)\n",
    "\n",
    "plt.scatter(filteredX[:, 0], filteredX[:, 1], c = filteredY)\n",
    "\n",
    "# Constructing a hyperplane using a formula\n",
    "w = svc.coef_[0] # w consists of 2 elements\n",
    "b = svc.intercept_[0] # b consist of 1 element\n",
    "x_points = np.linspace(-1, 1) # generating x-points from -1 to 1\n",
    "y_points = -(w[0] / w[1]) * x_points - b / w[1] # getting corresponding y-points\n",
    "\n",
    "# Plotting a blue hyperplane\n",
    "plt.plot(x_points, y_points, color='blue')\n",
    "\n",
    "plt.scatter(svc.support_vectors_[:,0], svc.support_vectors_[:,1], color = 'red')\n",
    "\n",
    "# Step 2 (unit-vector):\n",
    "w_hat = svc.coef_[0] / (np.sqrt(np.sum(svc.coef_[0] ** 2)))\n",
    "# Step 3 (margin):\n",
    "margin = 1 / np.sqrt(np.sum(svc.coef_[0] ** 2))\n",
    "# Step 4 (calculate points of the margin lines):\n",
    "decision_boundary_points = np.array(list(zip(x_points, y_points)))\n",
    "points_of_line_above = decision_boundary_points + w_hat * margin\n",
    "points_of_line_below = decision_boundary_points - w_hat * margin\n",
    "\n",
    "# Plot margin lines\n",
    "\n",
    "# Blue margin line above\n",
    "plt.plot(points_of_line_above[:, 0], points_of_line_above[:, 1], 'b--', linewidth=2)\n",
    "\n",
    "# Green margin line below\n",
    "plt.plot(points_of_line_below[:, 0], points_of_line_below[:, 1], 'g--', linewidth=2)"
   ]
  },
  {
   "cell_type": "code",
   "execution_count": null,
   "metadata": {},
   "outputs": [],
   "source": []
  }
 ],
 "metadata": {
  "interpreter": {
   "hash": "07aecca470ddef5b05851bf67872e792259093f61c0252320a4feeffbf755d15"
  },
  "kernelspec": {
   "display_name": "Python 3",
   "language": "python",
   "name": "python3"
  },
  "language_info": {
   "codemirror_mode": {
    "name": "ipython",
    "version": 3
   },
   "file_extension": ".py",
   "mimetype": "text/x-python",
   "name": "python",
   "nbconvert_exporter": "python",
   "pygments_lexer": "ipython3",
   "version": "3.8.8"
  }
 },
 "nbformat": 4,
 "nbformat_minor": 4
}
