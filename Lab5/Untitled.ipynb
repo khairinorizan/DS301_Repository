{
 "cells": [
  {
   "cell_type": "code",
   "execution_count": 2,
   "id": "f9eb830a",
   "metadata": {},
   "outputs": [],
   "source": [
    "import random\n",
    "import numpy as np\n",
    "import pandas as pd\n",
    "import matplotlib.pyplot as plt"
   ]
  },
  {
   "cell_type": "code",
   "execution_count": 4,
   "id": "c2b0e84d",
   "metadata": {},
   "outputs": [
    {
     "ename": "SyntaxError",
     "evalue": "invalid syntax (3455194669.py, line 15)",
     "output_type": "error",
     "traceback": [
      "\u001b[0;36m  File \u001b[0;32m\"/var/folders/fs/j12bq6cx6hx4dj6nck20v85w0000gn/T/ipykernel_15893/3455194669.py\"\u001b[0;36m, line \u001b[0;32m15\u001b[0m\n\u001b[0;31m    target.append(1)        x.append(np.round(random.uniform(3, 5), 2))\u001b[0m\n\u001b[0m                            ^\u001b[0m\n\u001b[0;31mSyntaxError\u001b[0m\u001b[0;31m:\u001b[0m invalid syntax\n"
     ]
    }
   ],
   "source": [
    "def generate_random_dataset(size):\n",
    "    \"\"\" Generate a random dataset and that follows a quadratic  distribution\n",
    "    \"\"\"\n",
    "    x = []\n",
    "    y = []\n",
    "    target = []\n",
    "    \n",
    "    for i in range(size):\n",
    "        # class zero\n",
    "        x.append(np.round(random.uniform(0, 2.5), 1))\n",
    "        y.append(np.round(random.uniform(0, 20), 1))\n",
    "        target.append(0)        # class one\n",
    "        x.append(np.round(random.uniform(1, 5), 2))\n",
    "        y.append(np.round(random.uniform(20, 25), 2))\n",
    "        target.append(1)        x.append(np.round(random.uniform(3, 5), 2))\n",
    "        y.append(np.round(random.uniform(5, 25), 2))\n",
    "        target.append(1)    df_x = pd.DataFrame(data=x)\n",
    "        \n",
    "    df_y = pd.DataFrame(data=y)\n",
    "    df_target = pd.DataFrame(data=target)    data_frame = pd.concat([df_x, df_y], ignore_index=True, axis=1)\n",
    "    data_frame = pd.concat([data_frame, df_target], ignore_index=True, axis=1)    data_frame.columns = ['x', 'y', 'target']\n",
    "    \n",
    "    return data_frame"
   ]
  }
 ],
 "metadata": {
  "kernelspec": {
   "display_name": "Python 3",
   "language": "python",
   "name": "python3"
  },
  "language_info": {
   "codemirror_mode": {
    "name": "ipython",
    "version": 3
   },
   "file_extension": ".py",
   "mimetype": "text/x-python",
   "name": "python",
   "nbconvert_exporter": "python",
   "pygments_lexer": "ipython3",
   "version": "3.8.8"
  }
 },
 "nbformat": 4,
 "nbformat_minor": 5
}
