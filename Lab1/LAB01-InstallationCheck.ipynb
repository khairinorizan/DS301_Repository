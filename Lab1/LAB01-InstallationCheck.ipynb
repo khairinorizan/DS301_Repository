{
 "cells": [
  {
   "source": [
    "**DS 301: Applied Data Modeling and Predictive Analysis**\n",
    "\n",
    "# Check Installation of Required Packages"
   ],
   "cell_type": "code",
   "metadata": {},
   "execution_count": null,
   "outputs": []
  },
  {
   "cell_type": "code",
   "execution_count": 1,
   "metadata": {},
   "outputs": [],
   "source": [
    "# Python ≥3.7 is required\n",
    "import sys\n",
    "assert sys.version_info >= (3, 5)\n",
    "\n",
    "# scikit-Learn ≥0.22 is required\n",
    "import sklearn\n",
    "assert sklearn.__version__ >= \"0.22\"\n",
    "\n",
    "# pandas ≥1.0.5 is required\n",
    "import pandas as pd\n",
    "assert pd.__version__ >= \"1.0.5\"\n",
    "\n",
    "# matplotlib ≥3.2 is required\n",
    "import matplotlib\n",
    "assert matplotlib.__version__ >= \"3.2\"\n",
    "\n",
    "# seaborn ≥0.10 is required\n",
    "import seaborn\n",
    "assert seaborn.__version__ >= \"0.10\"\n",
    "\n",
    "# pytorch ≥1.8 is required\n",
    "import torch\n",
    "assert torch.__version__ >= \"1.7\""
   ]
  },
  {
   "cell_type": "code",
   "execution_count": null,
   "metadata": {},
   "outputs": [],
   "source": []
  }
 ],
 "metadata": {
  "kernelspec": {
   "name": "python3",
   "display_name": "Python 3.8.3 64-bit ('base': conda)"
  },
  "language_info": {
   "codemirror_mode": {
    "name": "ipython",
    "version": 3
   },
   "file_extension": ".py",
   "mimetype": "text/x-python",
   "name": "python",
   "nbconvert_exporter": "python",
   "pygments_lexer": "ipython3",
   "version": "3.8.3"
  },
  "interpreter": {
   "hash": "07aecca470ddef5b05851bf67872e792259093f61c0252320a4feeffbf755d15"
  }
 },
 "nbformat": 4,
 "nbformat_minor": 4
}